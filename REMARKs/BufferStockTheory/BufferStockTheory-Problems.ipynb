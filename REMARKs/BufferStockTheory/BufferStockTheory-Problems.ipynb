{
 "cells": [
  {
   "cell_type": "markdown",
   "metadata": {},
   "source": [
    "# Theoretical Foundations of Buffer Stock Saving\n",
    "\n",
    "<cite data-cite=\"6202365/8AH9AXN2\"></cite>\n",
    "\n",
    "<p style=\"text-align: center;\"><small><small>Generator: BufferStockTheory-make/notebooks_byname</small></small></p>"
   ]
  },
  {
   "cell_type": "markdown",
   "metadata": {},
   "source": [
    "<p style=\"text-align: center;\"><small><small><small>For the following badges: GitHub does not allow click-through redirects; right-click to get the link, then paste into navigation bar</small></small></small></p>\n",
    "\n",
    "<!-- Disabling binder because it is excruciatingly slow\n",
    "[![Open in Binder](https://mybinder.org/badge_logo.svg)](https://mybinder.org/v2/gh/econ-ark/REMARK/master?filepath=REMARKs%2FBufferStockTheory%2FBufferStockTheory.ipynb)\n",
    "-->\n",
    "\n",
    "[![Open in CoLab](https://colab.research.google.com/assets/colab-badge.svg)](https://colab.research.google.com/github/econ-ark/REMARK/blob/master/REMARKs/BufferStockTheory/BufferStockTheory.ipynb)\n",
    "\n",
    "[This notebook](https://github.com/econ-ark/REMARK/blob/master/REMARKs/BufferStockTheory/BufferStockTheory.ipynb) uses the [Econ-ARK/HARK](https://github.com/econ-ark/hark) toolkit to describe the main results and reproduce the figures in the paper [Theoretical Foundations of Buffer Stock Saving](http://econ.jhu.edu/people/ccarroll/papers/BufferStockTheory) \n",
    "\n",
    "If you are not familiar with the HARK toolkit, you may wish to browse the [\"Gentle Introduction to HARK\"](https://mybinder.org/v2/gh/econ-ark/DemARK/master?filepath=Gentle-Intro-To-HARK.ipynb) before continuing (since you are viewing this document, you presumably know a bit about [Jupyter Notebooks](https://jupyter-notebook-beginner-guide.readthedocs.io/en/latest/)).\n",
    "\n",
    "For instructions on how to install the [Econ-ARK/HARK](https://github.com/econ-ark/hark) toolkit on your computer, please refer to the [QUICK START GUIDE](https://github.com/econ-ark/HARK/blob/master/README.md). \n",
    "\n",
    "The main HARK tool used here is $\\texttt{IndShockConsumerType}$ class, in which agents have CRRA utility and face idiosyncratic shocks to permanent and transitory income.  For an introduction to this module, see the [IndShockConsumerType.ipynb](https://github.com/econ-ark/DemARK/blob/master/notebooks/IndShockConsumerType.ipynb) notebook.\n"
   ]
  },
  {
   "cell_type": "code",
   "execution_count": 2,
   "metadata": {
    "code_folding": []
   },
   "outputs": [],
   "source": [
    "# This cell does some setup; please be patient, it may take 3-5 minutes\n",
    "\n",
    "# The tools for navigating the filesystem\n",
    "import sys\n",
    "import os\n",
    "\n",
    "# Determine the platform so we can do things specific to each \n",
    "import platform\n",
    "pform = ''\n",
    "pform = platform.platform().lower()\n",
    "if 'darwin' in pform:\n",
    "    pf = 'darwin' # MacOS\n",
    "if 'debian' in pform:\n",
    "    pf = 'debian' # Probably cloud (MyBinder, CoLab, ...)\n",
    "if 'ubuntu' in pform:\n",
    "    pf = 'debian' # Probably cloud (MyBinder, CoLab, ...)\n",
    "if 'win' in pform:\n",
    "    pf = 'win'\n",
    "\n",
    "# Test whether latex is installed (some of the figures require it)\n",
    "from distutils.spawn import find_executable\n",
    "\n",
    "iflatexExists=False\n",
    "\n",
    "if find_executable('latex'):\n",
    "    iflatexExists=True\n",
    "\n",
    "if not iflatexExists:\n",
    "    print('Some of the figures below require a full installation of LaTeX')\n",
    "    \n",
    "    # If running on Mac or Win, user can be assumed to be able to install\n",
    "    # any missing packages in response to error messages; but not on cloud\n",
    "    # so load LaTeX by hand (painfully slowly)\n",
    "    if 'debian' in pf: # CoLab and MyBinder are both ubuntu\n",
    "        print('Installing LaTeX now; please wait 3-5 minutes')\n",
    "        from IPython.utils import io\n",
    "        \n",
    "        with io.capture_output() as captured: # Hide hideously long output \n",
    "            os.system('apt-get update')\n",
    "            os.system('apt-get install texlive texlive-latex-extra texlive-xetex dvipng')\n",
    "            iflatexExists=True\n",
    "    else:\n",
    "        print('Please install a full distributon of LaTeX on your computer then rerun.')\n",
    "        print('A full distribution means textlive, texlive-latex-extras, texlive-xetex, dvipng, and ghostscript')\n",
    "        sys.exit()\n",
    "\n",
    "# This is a jupytext paired notebook that autogenerates BufferStockTheory.py\n",
    "# which can be executed from a terminal command line via \"ipython BufferStockTheory.py\"\n",
    "# But a terminal does not permit inline figures, so we need to test jupyter vs terminal\n",
    "# Google \"how can I check if code is executed in the ipython notebook\"\n",
    "\n",
    "from IPython import get_ipython # In case it was run from python instead of ipython\n",
    "\n",
    "# If the ipython process contains 'terminal' assume not in a notebook\n",
    "def in_ipynb():\n",
    "    try:\n",
    "        if 'terminal' in str(type(get_ipython())):\n",
    "            return False\n",
    "        else:\n",
    "            return True\n",
    "    except NameError:\n",
    "        return False\n",
    "\n",
    "if in_ipynb():\n",
    "    # Now install stuff aside from LaTeX (if not already installed)\n",
    "    os.system('pip install econ-ark==0.10.1')\n",
    "    os.system('pip install matplotlib')\n",
    "    os.system('pip install numpy')\n",
    "    os.system('pip install scipy')\n",
    "    os.system('pip install ipywidgets')\n",
    "    os.system('pip install jupyter_contrib_nbextensions')\n",
    "    os.system('jupyter contrib nbextension install --user')\n",
    "    os.system('jupyter nbextension enable codefolding/main')\n",
    "    os.system('jupyter nbextension enable latex_envs/latex_envs')\n",
    "#    os.system('jupyter nbextension enable load_tex_macros/main')\n",
    "    os.system('pip install cite2c')\n",
    "    os.system('python -m cite2c.install')\n",
    "else:\n",
    "    print('In batch mode')\n",
    "    \n",
    "# Import related generic python packages\n",
    "import numpy as np\n",
    "from time import clock\n",
    "mystr = lambda number : \"{:.4f}\".format(number)\n",
    "\n",
    "import matplotlib\n",
    "import matplotlib.pyplot as plt\n",
    "from matplotlib.pyplot import plot, draw, show\n",
    "\n",
    "# In order to use LaTeX to manage all text layout in our figures, \n",
    "# we import rc settings from matplotlib.\n",
    "from matplotlib import rc\n",
    "\n",
    "plt.rc('font', family='serif')\n",
    "plt.rc('text', usetex=iflatexExists)\n",
    "\n",
    "# The warnings package allows us to ignore some harmless but alarming warning messages\n",
    "import warnings\n",
    "warnings.filterwarnings(\"ignore\")\n",
    "\n",
    "from copy import copy, deepcopy\n",
    "\n",
    "# Determine whether to make the figures inline (for spyder or jupyter)\n",
    "# vs whatever is the automatic setting that will apply if run from the terminal\n",
    "if in_ipynb():\n",
    "    # %matplotlib inline generates a syntax error when run from the shell\n",
    "    # so do this instead\n",
    "    get_ipython().run_line_magic('matplotlib', 'inline')\n",
    "else:\n",
    "    get_ipython().run_line_magic('matplotlib', 'auto')\n",
    "\n",
    "# Code to allow a master \"Generator\" and derived \"Generated\" versions\n",
    "Generator=False # Is this notebook the master or is it generated?\n",
    "\n",
    "# Define (and create, if necessary) the figures directory \"Figures\"\n",
    "if Generator:\n",
    "    my_file_path = os.path.dirname(os.path.abspath(\"BufferStockTheory.ipynb\")) # Find pathname to this file:\n",
    "    Figures_HARK_dir = os.path.join(my_file_path,\"Figures/\") # LaTeX document assumes figures will be here\n",
    "    Figures_HARK_dir = os.path.join(my_file_path,\"/tmp/Figures/\") # Uncomment to make figures outside of git path\n",
    "    if not os.path.exists(Figures_HARK_dir):\n",
    "        os.makedirs(Figures_HARK_dir)\n",
    "        \n",
    "if not in_ipynb(): # running in batch mode\n",
    "    print('You appear to be running from a terminal')\n",
    "    print('By default, figures will appear one by one')"
   ]
  },
  {
   "cell_type": "code",
   "execution_count": 3,
   "metadata": {},
   "outputs": [],
   "source": [
    "# Import HARK tools needed\n",
    "\n",
    "from HARK.ConsumptionSaving.ConsIndShockModel import IndShockConsumerType\n",
    "from HARK.utilities import plotFuncsDer, plotFuncs"
   ]
  },
  {
   "cell_type": "markdown",
   "metadata": {},
   "source": [
    "## [The Problem](http://econ.jhu.edu/people/ccarroll/papers/BufferStockTheory/#The-Problem) \n",
    "\n",
    "The paper defines and calibrates a small set of parameters: <!-- defined in latexdefs.tex -->\n",
    "\n",
    "| Parameter | Description | Code | Value |\n",
    "|:---:| ---         | ---  | :---: |\n",
    "| $\\Gamma$ | Permanent Income Growth Factor | $\\texttt{PermGroFac}$ | 1.03 |\n",
    "| $\\mathsf{R}$ | Interest Factor | $\\texttt{Rfree}$ | 1.04 |\n",
    "| $\\beta$ | Time Preference Factor | $\\texttt{DiscFac}$ | 0.96 |\n",
    "| $\\rho$ | Coeﬃcient of Relative Risk Aversion| $\\texttt{CRRA}$ | 2 |\n",
    "| $\\wp$ | Probability of Unemployment | $\\texttt{UnempPrb}$ | 0.005 |\n",
    "| $\\mu$ | Income when Unemployed | $\\texttt{IncUnemp}$ | 0. |\n",
    "| $\\sigma_\\psi$ | Std Dev of Log Permanent Shock| $\\texttt{PermShkStd}$ | 0.1 |\n",
    "| $\\sigma_\\theta$ | Std Dev of Log Transitory Shock| $\\texttt{TranShkStd}$ | 0.1 |\n",
    "\n",
    "For a microeconomic consumer with 'Market Resources' (net worth plus current income) $M_{t}$, end-of-period assets $A_{t}$ will be the amount remaining after consumption of $C_{t}$.  <!-- Next period's 'Balances' $B_{t+1}$ reflect this period's $A_{t}$ augmented by return factor $R$:-->\n",
    "\\begin{eqnarray}\n",
    "A_{t}   &=&M_{t}-C_{t}\n",
    "\\end{eqnarray}\n",
    "\n",
    "The consumer's permanent noncapital income $P$ grows by a predictable factor $\\Gamma$ and is subject to an unpredictable lognormally distributed multiplicative shock $\\mathbb{E}_{t}[\\psi_{t+1}]=1$, \n",
    "\\begin{eqnarray}\n",
    "P_{t+1} & = & P_{t} \\Gamma \\psi_{t+1}\n",
    "\\end{eqnarray}\n",
    "\n",
    "and actual income is permanent income multiplied by a logormal multiplicative transitory shock, $\\mathbb{E}_{t}[\\theta_{t+1}]=1$, so that next period's market resources are\n",
    "\\begin{eqnarray}\n",
    "%M_{t+1} &=& B_{t+1} +P_{t+1}\\theta_{t+1},  \\notag\n",
    "M_{t+1} &=& A_{t}\\mathsf{R} +P_{t+1}\\theta_{t+1}.  \\notag\n",
    "\\end{eqnarray}\n",
    "\n",
    "When the consumer has a CRRA utility function $u(c)=\\frac{c^{1-\\rho}}{1-\\rho}$, the paper shows that the problem can be written in terms of ratios of money variables to permanent income, e.g. $m_{t} \\equiv M_{t}/P_{t}$, and the Bellman form of [the problem reduces to](http://econ.jhu.edu/people/ccarroll/papers/BufferStockTheory/#The-Related-Problem):\n",
    "\n",
    "\\begin{eqnarray*}\n",
    "v_t(m_t) &=& \\max_{c_t}~~ u(c_t) + \\beta~\\mathbb{E}_{t} [(\\Gamma\\psi_{t+1})^{1-\\rho} v_{t+1}(m_{t+1}) ] \\\\\n",
    "& s.t. & \\\\\n",
    "a_t &=& m_t - c_t \\\\\n",
    "m_{t+1} &=& R/(\\Gamma \\psi_{t+1}) a_t + \\theta_{t+1} \\\\\n",
    "\\end{eqnarray*}\n"
   ]
  },
  {
   "cell_type": "code",
   "execution_count": 4,
   "metadata": {
    "code_folding": [
     0
    ],
    "lines_to_next_cell": 0
   },
   "outputs": [],
   "source": [
    "# Define a parameter dictionary with baseline parameter values\n",
    "\n",
    "# Set the baseline parameter values \n",
    "PermGroFac = 1.03\n",
    "Rfree      = 1.04\n",
    "DiscFac    = 0.96\n",
    "CRRA       = 2.00\n",
    "UnempPrb   = 0.005\n",
    "IncUnemp   = 0.0\n",
    "PermShkStd = 0.1\n",
    "TranShkStd = 0.1\n",
    "# Import default parameter values\n",
    "import HARK.ConsumptionSaving.ConsumerParameters as Params \n",
    "\n",
    "# Make a dictionary containing all parameters needed to solve the model\n",
    "base_params = Params.init_idiosyncratic_shocks\n",
    "\n",
    "# Set the parameters for the baseline results in the paper\n",
    "# using the variable values defined in the cell above\n",
    "base_params['PermGroFac'] = [PermGroFac]   # Permanent income growth factor\n",
    "base_params['Rfree']      = Rfree          # Interest factor on assets\n",
    "base_params['DiscFac']    = DiscFac        # Time Preference Factor\n",
    "base_params['CRRA']       = CRRA           # Coefficient of relative risk aversion\n",
    "base_params['UnempPrb']   = UnempPrb       # Probability of unemployment (e.g. Probability of Zero Income in the paper)\n",
    "base_params['IncUnemp']   = IncUnemp       # Induces natural borrowing constraint\n",
    "base_params['PermShkStd'] = [PermShkStd]   # Standard deviation of log permanent income shocks\n",
    "base_params['TranShkStd'] = [TranShkStd]   # Standard deviation of log transitory income shocks\n",
    "\n",
    "# Some technical settings that are not interesting for our purposes\n",
    "base_params['LivPrb']       = [1.0]   # 100 percent probability of living to next period\n",
    "base_params['CubicBool']    = True    # Use cubic spline interpolation\n",
    "base_params['T_cycle']      = 1       # No 'seasonal' cycles\n",
    "base_params['BoroCnstArt']  = None    # No artificial borrowing constraint"
   ]
  },
  {
   "cell_type": "markdown",
   "metadata": {},
   "source": [
    "## Convergence of the Consumption Rules\n",
    "\n",
    "Under the given parameter values, [the paper's first figure](http://econ.jhu.edu/people/ccarroll/papers/BufferStockTheory/#Convergence-of-the-Consumption-Rules) depicts the successive consumption rules that apply in the last period of life $(c_{T}(m))$, the second-to-last period, and earlier periods $(c_{T-n})$.  $c(m)$ is the consumption function to which these converge as \n",
    "\n",
    "\n",
    "$c(m) = \\lim_{n \\uparrow \\infty} c_{T-n}(m)$\n",
    "\n"
   ]
  },
  {
   "cell_type": "code",
   "execution_count": 5,
   "metadata": {
    "code_folding": [
     0
    ]
   },
   "outputs": [],
   "source": [
    "# Create a buffer stock consumer instance by passing the dictionary to the class.\n",
    "baseEx = IndShockConsumerType(**base_params)\n",
    "baseEx.cycles = 100   # Make this type have a finite horizon (Set T = 100)\n",
    "\n",
    "baseEx.solve()        # Solve the model\n",
    "baseEx.unpackcFunc()  # Make the consumption function easily accessible\n",
    "\n",
    "\n"
   ]
  },
  {
   "cell_type": "code",
   "execution_count": 6,
   "metadata": {
    "code_folding": [
     0
    ]
   },
   "outputs": [
    {
     "data": {
      "image/png": "[encoded data removed]",
      "text/plain": [
       "<Figure size 864x648 with 1 Axes>"
      ]
     },
     "metadata": {},
     "output_type": "display_data"
    }
   ],
   "source": [
    "# Plot the different periods' consumption rules.\n",
    "\n",
    "m1 = np.linspace(0,9.5,1000) # Set the plot range of m\n",
    "m2 = np.linspace(0,6.5,500)\n",
    "c_m  = baseEx.cFunc[0](m1)   # c_m can be used to define the limiting inﬁnite-horizon consumption rule here\n",
    "c_t1 = baseEx.cFunc[-2](m1) # c_t1 defines the second-to-last period consumption rule\n",
    "c_t5 = baseEx.cFunc[-6](m1) # c_t5 defines the T-5 period consumption rule\n",
    "c_t10 = baseEx.cFunc[-91](m1)  # c_t10 defines the T-10 period consumption rule\n",
    "c_t0 = m2                            # c_t0 defines the last period consumption rule\n",
    "plt.figure(figsize = (12,9))\n",
    "plt.plot(m1,c_m,color=\"black\")\n",
    "plt.plot(m1,c_t1,color=\"black\")\n",
    "plt.plot(m1,c_t5,color=\"black\")\n",
    "plt.plot(m1,c_t10,color=\"black\")\n",
    "plt.plot(m2,c_t0,color=\"black\")\n",
    "plt.xlim(0,11)\n",
    "plt.ylim(0,7)\n",
    "plt.text(7,6,r'$c_{T}(m) = 45$ degree line',fontsize = 22,fontweight='bold')\n",
    "plt.text(9.6,5.3,r'$c_{T-1}(m)$',fontsize = 22,fontweight='bold')\n",
    "plt.text(9.6,2.6,r'$c_{T-5}(m)$',fontsize = 22,fontweight='bold')\n",
    "plt.text(9.6,2.1,r'$c_{T-10}(m)$',fontsize = 22,fontweight='bold')\n",
    "plt.text(9.6,1.7,r'$c(m)$',fontsize = 22,fontweight='bold')\n",
    "plt.arrow(6.9,6.05,-0.6,0,head_width= 0.1,width=0.001,facecolor='black',length_includes_head='True')\n",
    "plt.tick_params(labelbottom=False, labelleft=False,left='off',right='off',bottom='off',top='off')\n",
    "plt.text(0,7.05,\"$c$\",fontsize = 26)\n",
    "plt.text(11.1,0,\"$m$\",fontsize = 26)\n",
    "# Save the figures in several formats\n",
    "if Generator:\n",
    "    plt.savefig(os.path.join(Figures_HARK_dir, 'cFuncsConverge.png'))\n",
    "    plt.savefig(os.path.join(Figures_HARK_dir, 'cFuncsConverge.jpg'))\n",
    "    plt.savefig(os.path.join(Figures_HARK_dir, 'cFuncsConverge.pdf'))\n",
    "    plt.savefig(os.path.join(Figures_HARK_dir, 'cFuncsConverge.svg'))\n",
    "if not in_ipynb():\n",
    "    plt.ioff()\n",
    "    plt.draw()\n",
    "#    plt.show(block=False) \n",
    "    plt.pause(1)\n",
    "else:\n",
    "     plt.show(block=True) # Change to False if you want to run uninterrupted\n",
    "    \n",
    "\n"
   ]
  },
  {
   "cell_type": "markdown",
   "metadata": {},
   "source": [
    "### PROBLEM: Natural Borrowing Constraint Approaches Artificial Constraint\n",
    "\n",
    "Show numerically the result that is proven analytically in [The-Liquidity-Constrained-Solution-as-a-Limit](http://econ.jhu.edu/people/ccarroll/papers/BufferStockTheory/#The-Liquidity-Constrained-Solution-as-a-Limit), by solving the model for successively smaller values of $\\wp$.\n",
    "   * You need only to solve for the second-to-last period of life to do this\n",
    "   * You should show the consumption rules for different values of $\\wp$ on the same graph\n",
    "      * To make this easier, you will want to use the plotFuncs command imported by `from HARK.utilities import plotFuncsDer, plotFuncs`\n",
    "\n",
    "Create a cell or cells in the notebook below this cell and put your solution there"
   ]
  },
  {
   "cell_type": "code",
   "execution_count": 7,
   "metadata": {},
   "outputs": [
    {
     "data": {
      "image/png": "[encoded data removed]",
      "text/plain": [
       "<Figure size 432x288 with 1 Axes>"
      ]
     },
     "metadata": {
      "needs_background": "light"
     },
     "output_type": "display_data"
    }
   ],
   "source": [
    "#soluion\n",
    "\n",
    "cFuncList=[]\n",
    "#consruction  solution\n",
    "baseCnst = deepcopy(base_params)\n",
    "baseCnst['BoroCnstArt']= 0.0\n",
    "baseCnst['IncUnemp']= 0.3\n",
    "baseCnstEx=IndShockConsumerType(**baseCnst)\n",
    "baseCnstEx.cycles=2\n",
    "baseCnstEx.solve()\n",
    "baseCnstEx.unpackcFunc()\n",
    "\n",
    "#The first consumption function\n",
    "cFuncList.append(baseCnstEx.cFunc[-2])\n",
    "\n",
    "#set upp unconstrained two period\n",
    "TwoPer = IndShockConsumerType(**base_params)\n",
    "TwoPer.cycles=2\n",
    "\n",
    "TwoPer.solve()\n",
    "TwoPer.unpackcFunc()\n",
    "\n",
    "#next consmtion funcion\n",
    "cFuncList.append(TwoPer.cFunc[-2])\n",
    "\n",
    "\n",
    "\n",
    "UnempPrbList=[0.001,0.0001, 0.00001, 0.000001]\n",
    "\n",
    "i=0\n",
    "while i<len(UnempPrbList):\n",
    "    TwoPerNow=deepcopy(TwoPer)\n",
    "    TwoPerNow.UnempPrb=UnempPrbList[i]\n",
    "    TwoPerNow.updateIncomeProcess()\n",
    "    TwoPerNow.solve()\n",
    "    TwoPerNow.unpackcFunc()\n",
    "    cFuncList.append(TwoPerNow.cFunc[-2])\n",
    "    i += 1\n",
    "    \n",
    "\n",
    "    \n",
    "plotFuncs(cFuncList,0.5,1.2)"
   ]
  },
  {
   "cell_type": "markdown",
   "metadata": {},
   "source": [
    "## Factors and Conditions\n",
    "\n",
    "### [The Finite Human Wealth Condition](http://econ.jhu.edu/people/ccarroll/papers/BufferStockTheory/#Human-Wealth)\n",
    "\n",
    "Human wealth for a perfect foresight consumer is defined as the present discounted value of future income:\n",
    "\n",
    "\\begin{eqnarray}\n",
    "H_{t} & = & \\mathbb{E}_{t}[P_{t} + \\mathsf{R}^{-1} P_{t+1} + \\mathsf{R}^{2} P_{t+2} ... ] \\\\ \n",
    "      & = & P_{t} \\left(1 + (\\Gamma/\\mathsf{R}) + (\\Gamma/\\mathsf{R})^{2} ... \\right)\n",
    "\\end{eqnarray}\n",
    "which is an infinite number if $\\Gamma/\\mathsf{R} \\geq 1$.  We say that the 'Finite Human Wealth Condition' (FHWC) holds if \n",
    "$0 \\leq (\\Gamma/\\mathsf{R}) < 1$."
   ]
  },
  {
   "cell_type": "markdown",
   "metadata": {},
   "source": [
    "### [Absolute Patience and the AIC](http://econ.jhu.edu/people/ccarroll/papers/BufferStockTheory/#AIC)\n",
    "\n",
    "The paper defines the Absolute Patience Factor as being equal to the ratio of $C_{t+1}/C_{t}$ for a perfect foresight consumer.  The Old English character <span style=\"font-size:larger;\">\"&#222;\"</span> is used for this object in the paper, but <span style=\"font-size:larger;\">\"&#222;\"</span> cannot currently be rendered conveniently in Jupyter notebooks, so we will substitute $\\Phi$ here:\n",
    "\n",
    "\\begin{equation}\n",
    "\\Phi = (\\mathsf{R} \\beta)^{1/\\rho} \n",
    "\\end{equation}\n",
    "\n",
    "If $\\Phi = 1$, a perfect foresight consumer will spend exactly the amount that can be sustained perpetually (given their current and future resources).  If $\\Phi < 1$ (the consumer is 'absolutely impatient'; or, 'the absolute impatience condition holds'), the consumer is consuming more than the sustainable amount, so consumption will fall, and if the consumer is 'absolutely patient' with $\\Phi > 1$ consumption will grow over time.\n",
    "\n"
   ]
  },
  {
   "cell_type": "markdown",
   "metadata": {},
   "source": [
    "### [Growth Patience and the GIC](http://econ.jhu.edu/people/ccarroll/papers/BufferStockTheory/#GIC)\n",
    "\n",
    "For a [perfect foresight consumer](http://econ.jhu.edu/people/ccarroll/public/lecturenotes/consumption/PerfForesightCRRA), whether the ratio of consumption to the permanent component of income $P$ is rising, constant, or falling depends on the relative growth rates of consumption and permanent income, which is measured by the \"Perfect Foresight Growth Patience Factor\":\n",
    "\n",
    "\\begin{eqnarray}\n",
    "\\Phi_{\\Gamma} & = & \\Phi/\\Gamma\n",
    "\\end{eqnarray}\n",
    "and whether the ratio is falling or rising over time depends on whether $\\Phi_{\\Gamma}$ is below or above 1.\n",
    "\n",
    "An analogous condition can be defined when there is uncertainty about permanent income.  Defining $\\tilde{\\Gamma} = (\\mathbb{E}[\\psi^{-1}])^{-1}\\Gamma$, the 'Growth Impatience Condition' (GIC) is that \n",
    "\\begin{eqnarray}\n",
    "  \\Phi/\\tilde{\\Gamma} & < & 1\n",
    "\\end{eqnarray}"
   ]
  },
  {
   "cell_type": "markdown",
   "metadata": {
    "lines_to_next_cell": 2
   },
   "source": [
    "### [The Finite Value of Autarky Condition (FVAC)](http://econ.jhu.edu/people/ccarroll/papers/BufferStockTheory/#Autarky-Value)"
   ]
  },
  {
   "cell_type": "markdown",
   "metadata": {},
   "source": [
    "The paper [shows](http://econ.jhu.edu/people/ccarroll/papers/BufferStockTheory/#Autarky-Value) that a consumer who planned to spend his permanent income $\\{ p_{t}, p_{t+1}, ...\\} $ in every period would have value defined by\n",
    "\n",
    "\\begin{equation}\n",
    "v_{t}^{\\text{autarky}} = u(p_{t})\\left(\\frac{1}{1-\\beta \\Gamma^{1-\\rho} \\mathbb{E}[\\psi^{1-\\rho}]}\\right)\n",
    "\\end{equation}\n",
    "\n",
    "and defines the 'Finite Value of Autarky Condition' as the requirement that the denominator of this expression be a positive finite number:\n",
    "\n",
    "\\begin{equation}\n",
    "\\beta \\Gamma^{1-\\rho} \\mathbb{E}[\\psi^{1-\\rho}] < 1\n",
    "\\end{equation}"
   ]
  },
  {
   "cell_type": "markdown",
   "metadata": {},
   "source": [
    "### [The Weak Return Impatience Condition (WRIC)](http://www.econ2.jhu.edu/people/ccarroll/papers/BufferStockTheory/#WRIC)\n",
    "\n",
    "The 'Return Impatience Condition' $\\Phi/\\mathsf{R} < 1$ has long been understood to be required for the perfect foresight model to have a nondegenerate solution (when $\\rho=1$, this reduces to $\\beta < R$).  If the RIC does not hold, the consumer is so patient that the optimal consumption function approaches zero as the horizon extends.\n",
    "\n",
    "When the probability of unemployment is $\\wp$, the paper articulates an analogous (but weaker) condition:\n",
    "\n",
    "\\begin{eqnarray}\n",
    " \\wp^{1/\\rho} \\Phi/\\mathsf{R} & < & 1\n",
    "\\end{eqnarray}"
   ]
  },
  {
   "cell_type": "markdown",
   "metadata": {},
   "source": [
    "# Key Results\n",
    "\n",
    "## [Nondegenerate Solution Requires FVAC and WRIC](http://econ.jhu.edu/people/ccarroll/papers/BufferStockTheory/#Sufficient-Conditions-For-Nondegenerate-Solution)\n",
    "\n",
    "A main result of the paper is that the conditions required for the model to have a nondegenerate solution ($0 < c(m) < \\infty$ for feasible $m$) are that the Finite Value of Autarky (FVAC) and Weak Return Impatience Condition (WRAC) hold."
   ]
  },
  {
   "cell_type": "markdown",
   "metadata": {},
   "source": [
    "## [Natural Borrowing Constraint limits to Artificial Borrowing Constraint](http://www.econ2.jhu.edu/people/ccarroll/papers/BufferStockTheory/#The-Liquidity-Constrained-Solution-as-a-Limit)"
   ]
  },
  {
   "cell_type": "markdown",
   "metadata": {},
   "source": [
    "Defining $\\chi(\\wp)$ as the consumption function associated with any particular value of $\\wp$, and defining $\\hat{\\chi}$ as the consumption function that would apply in the absence of the zero-income shocks but in the presence of an 'artificial' borrowing constraint requiring $a \\geq 0$, a la Deaton (1991), the paper shows that \n",
    "\n",
    "\\begin{eqnarray}\n",
    "\\lim_{\\wp \\downarrow 0}~\\chi(\\wp) & = & \\hat{\\chi}\n",
    "\\end{eqnarray}\n",
    "\n",
    "That is, as $\\wp$ approaches zero the problem with uncertainty becomes identical to the problem that instead has constraints.  (See [Precautionary Saving and Liquidity Constraints](http://econ.jhu.edu/people/ccarroll/papers/LiqConstr) for a full treatment of the relationship between precautionary saving and liquidity constraints)."
   ]
  },
  {
   "cell_type": "markdown",
   "metadata": {},
   "source": [
    "## [$c(m)$ is Finite Even When Human Wealth Is Infinite](http://econ.jhu.edu/people/ccarroll/papers/BufferStockTheory/#When-The-GIC-Fails)\n",
    "\n",
    "In the perfect foresight model, if $\\mathsf{R} < \\Gamma$ the present discounted value of future labor income is infinite and so the limiting consumption function is $c(m) = \\infty$ for all $m$.  Many models have no well-defined solution in this case.\n",
    "\n",
    "The presence of uncertainty changes this: The limiting consumption function is finite for all values of $m$.  \n",
    "\n",
    "This is because uncertainty imposes a \"natural borrowing constraint\" that deters the consumer from borrowing against their unbounded future labor income."
   ]
  },
  {
   "cell_type": "markdown",
   "metadata": {},
   "source": [
    "A [table](http://econ.jhu.edu/people/ccarroll/papers/BufferStockTheory/#Sufficient-Conditions-For-Nondegenerate-Solution) puts this result in the context of implications of other conditions and restrictions.\n",
    "\n"
   ]
  },
  {
   "cell_type": "markdown",
   "metadata": {},
   "source": [
    "## [If the GIC Holds, $\\exists$ a finite 'target' $m$](http://econ.jhu.edu/people/ccarroll/papers/BufferStockTheory/#onetarget)\n",
    "\n",
    "Section [There Is Exactly One Target $m$ Ratio, Which Is Stable](http://econ.jhu.edu/people/ccarroll/papers/BufferStockTheory/#onetarget) shows that, under parameter values for which the limiting consumption function exists, if the GIC holds then there will be a value $\\check{m}$ such that:\n",
    "\n",
    "\\begin{eqnarray}\n",
    "\\mathbb{E}[m_{t+1}] & > & m_{t}~\\text{if $m_{t} < \\check{m}$} \\\\\n",
    "\\mathbb{E}[m_{t+1}] & < & m_{t}~\\text{if $m_{t} > \\check{m}$} \\\\\n",
    "\\mathbb{E}[m_{t+1}] & = & m_{t}~\\text{if $m_{t} = \\check{m}$}\n",
    "\\end{eqnarray} "
   ]
  },
  {
   "cell_type": "markdown",
   "metadata": {},
   "source": [
    "## [If the GIC Fails, Target Wealth is Infinite ](http://econ.jhu.edu/people/ccarroll/papers/BufferStockTheory/#The-GIC)\n",
    "\n",
    "[A figure](http://econ.jhu.edu/people/ccarroll/papers/BufferStockTheory/#FVACnotGIC) depicts a solution when the **FVAC** (Finite Value of Autarky Condition) and **WRIC** hold (so that the model has a solution) but the **GIC** (Growth Impatience Condition) fails.  In this case the target wealth ratio is infinity.  \n",
    "\n",
    "The parameter values in this specific example are:\n",
    "\n",
    "| Param | Description | Code | Value |\n",
    "| :---: | ---         | ---  | :---: |\n",
    "| $\\Gamma$ | Permanent Income Growth Factor | $\\texttt{PermGroFac}$ | 1.00 |\n",
    "| $\\mathrm{\\mathsf{R}}$ | Interest Factor | $\\texttt{Rfree}$ | 1.08 |\n",
    "\n",
    "The figure is reproduced below."
   ]
  },
  {
   "cell_type": "code",
   "execution_count": 8,
   "metadata": {
    "code_folding": [],
    "lines_to_next_cell": 2
   },
   "outputs": [],
   "source": [
    "# Construct the \"GIC fails\" example.\n",
    "\n",
    "GIC_fail_dictionary = dict(base_params)\n",
    "GIC_fail_dictionary['Rfree']      = 1.08\n",
    "GIC_fail_dictionary['PermGroFac'] = [1.00]\n",
    "\n",
    "GICFailExample = IndShockConsumerType(\n",
    "    cycles=0, # cycles=0 makes this an infinite horizon consumer\n",
    "    **GIC_fail_dictionary)"
   ]
  },
  {
   "cell_type": "markdown",
   "metadata": {},
   "source": [
    "The $\\mathtt{IndShockConsumerType}$ tool automatically checks various parametric conditions, and will give a warning as well as the values of the factors if any conditions fail to be met. \n",
    "\n",
    "We can also directly check the conditions, in which case results will be a little more verbose by default."
   ]
  },
  {
   "cell_type": "code",
   "execution_count": 9,
   "metadata": {
    "code_folding": [],
    "scrolled": false
   },
   "outputs": [
    {
     "name": "stdout",
     "output_type": "stream",
     "text": [
      "The given type violates the absolute impatience condition with the supplied parameter values; the AIF is 1.01823 \n",
      "    Therefore, the absolute amount of consumption is expected to grow over time\n",
      "The given parameter values violate the growth impatience condition for this consumer type; the GIF is: 1.0088\n",
      "    Therefore, a target level of wealth does not exist.\n",
      "The weak return impatience factor value for the supplied parameter values satisfies the weak return impatience condition.\n",
      "The finite value of autarky factor value for the supplied parameter values satisfies the finite value of autarky condition.\n",
      "\n",
      "[!] For more information on the conditions, see Table 3 in \"Theoretical Foundations of Buffer Stock Saving\" at http://econ.jhu.edu/people/ccarroll/papers/BufferStockTheory/\n",
      "\n"
     ]
    }
   ],
   "source": [
    "# The checkConditions method does what it sounds like it would\n",
    "GICFailExample.checkConditions(verbose=True)\n",
    "print()"
   ]
  },
  {
   "cell_type": "markdown",
   "metadata": {},
   "source": [
    "Next we define the function $\\mathrm{\\mathbb{E}}_{t}[\\Delta m_{t+1}]$ that shows the ‘sustainable’ level of spending at which $m$ is expected to remain unchanged."
   ]
  },
  {
   "cell_type": "code",
   "execution_count": 10,
   "metadata": {
    "code_folding": [],
    "lines_to_next_cell": 2
   },
   "outputs": [
    {
     "name": "stdout",
     "output_type": "stream",
     "text": [
      "0.18346369254956696\n"
     ]
    }
   ],
   "source": [
    "# Calculate \"Sustainable\" consumption that leaves expected m unchanged\n",
    "# In the perfect foresight case, this is just permanent income plus interest income\n",
    "# A small adjustment is required to take account of the consequences of uncertainty\n",
    "InvEpShInvAct = np.dot(GICFailExample.PermShkDstn[0][0], GICFailExample.PermShkDstn[0][1]**(-1))\n",
    "InvInvEpShInvAct = (InvEpShInvAct) ** (-1)\n",
    "PermGroFacAct = GICFailExample.PermGroFac[0] * InvInvEpShInvAct\n",
    "ER = GICFailExample.Rfree / PermGroFacAct\n",
    "Er = ER - 1\n",
    "mSSfunc = lambda m : 1 + (m-1)*(Er/ER)\n",
    "\n",
    "print(1.2-mSSfunc(1.2))\n",
    "\n"
   ]
  },
  {
   "cell_type": "markdown",
   "metadata": {
    "heading_collapsed": true
   },
   "source": [
    "### PROBLEM: Target Wealth and Impatience\n",
    "\n",
    "Given the above results proving that there is a finite target $m$ if the Growth Impatience Factor is less than one ('the GIC holds'), but that $m \\uparrow \\infty$ if the GIC fails, it will not surprise you to learn that the target approaches infinity as the GIF approaches 1.\n",
    "\n",
    "This problem asks you to verify that proposition by calculating and plotting values of the GIF for a sequence of $\\beta$ values that cause the GIF to be closer and closer to 1.\n",
    "\n",
    "In doing this, it will be useful to know that the GIF is calculated in the $\\texttt{checkConditions}$ method.  (Look in $\\texttt{ConsIndShockModel.py}$)."
   ]
  },
  {
   "cell_type": "code",
   "execution_count": 26,
   "metadata": {},
   "outputs": [
    {
     "name": "stdout",
     "output_type": "stream",
     "text": [
      "[0.14285714 0.14285714 0.14285714 0.14285714 0.14285714 0.14285714\n",
      " 0.14285714]\n",
      "[0.85043016 0.91862319 0.95908471 0.99506599 1.03241349 1.0779763\n",
      " 1.16640616]\n",
      "0.9955015655983426\n"
     ]
    }
   ],
   "source": [
    "print(baseEx.PermShkDstn[0][0])\n",
    "print(baseEx.PermShkDstn[0][1])\n",
    "print(GIF)"
   ]
  },
  {
   "cell_type": "code",
   "execution_count": 25,
   "metadata": {
    "code_folding": [],
    "scrolled": true
   },
   "outputs": [
    {
     "name": "stdout",
     "output_type": "stream",
     "text": [
      "The given type violates the absolute impatience condition with the supplied parameter values; the AIF is 1.00050 \n",
      "The given type violates the absolute impatience condition with the supplied parameter values; the AIF is 1.00180 \n",
      "The given type violates the absolute impatience condition with the supplied parameter values; the AIF is 1.00310 \n",
      "The given type violates the absolute impatience condition with the supplied parameter values; the AIF is 1.00439 \n",
      "The given type violates the absolute impatience condition with the supplied parameter values; the AIF is 1.00568 \n",
      "The given type violates the absolute impatience condition with the supplied parameter values; the AIF is 1.00698 \n",
      "The given type violates the absolute impatience condition with the supplied parameter values; the AIF is 1.00827 \n",
      "The given type violates the absolute impatience condition with the supplied parameter values; the AIF is 1.00955 \n",
      "The given type violates the absolute impatience condition with the supplied parameter values; the AIF is 1.01084 \n",
      "The given type violates the absolute impatience condition with the supplied parameter values; the AIF is 1.01213 \n",
      "The given type violates the absolute impatience condition with the supplied parameter values; the AIF is 1.01341 \n",
      "The given type violates the absolute impatience condition with the supplied parameter values; the AIF is 1.01469 \n",
      "The given type violates the absolute impatience condition with the supplied parameter values; the AIF is 1.01597 \n",
      "The given type violates the absolute impatience condition with the supplied parameter values; the AIF is 1.01725 \n",
      "The given type violates the absolute impatience condition with the supplied parameter values; the AIF is 1.01853 \n",
      "The given type violates the absolute impatience condition with the supplied parameter values; the AIF is 1.01980 \n",
      "The given type violates the absolute impatience condition with the supplied parameter values; the AIF is 1.02108 \n",
      "The given type violates the absolute impatience condition with the supplied parameter values; the AIF is 1.02235 \n",
      "The given type violates the absolute impatience condition with the supplied parameter values; the AIF is 1.02362 \n",
      "The given type violates the absolute impatience condition with the supplied parameter values; the AIF is 1.02489 \n",
      "The given type violates the absolute impatience condition with the supplied parameter values; the AIF is 1.02616 \n",
      "The given type violates the absolute impatience condition with the supplied parameter values; the AIF is 1.02742 \n",
      "The given type violates the absolute impatience condition with the supplied parameter values; the AIF is 1.02869 \n",
      "The given type violates the absolute impatience condition with the supplied parameter values; the AIF is 1.02995 \n",
      "The given type violates the absolute impatience condition with the supplied parameter values; the AIF is 1.03121 \n",
      "The given type violates the finite value of autarky condition with the supplied parameter values. The FVAF is 1.0020\n",
      "The given type violates the absolute impatience condition with the supplied parameter values; the AIF is 1.03247 \n",
      "The given type violates the finite value of autarky condition with the supplied parameter values. The FVAF is 1.0045\n",
      "The given type violates the absolute impatience condition with the supplied parameter values; the AIF is 1.03373 \n",
      "The given type violates the finite value of autarky condition with the supplied parameter values. The FVAF is 1.0069\n",
      "The given type violates the absolute impatience condition with the supplied parameter values; the AIF is 1.03499 \n",
      "The given type violates the finite value of autarky condition with the supplied parameter values. The FVAF is 1.0094\n"
     ]
    }
   ],
   "source": [
    "# baseEx_inf.solution[0].mNrmSS show targeted value of wealth \n",
    "my_ex = IndShockConsumerType(cycles=0,**base_params)\n",
    "\n",
    "\n",
    "m_target = []\n",
    "beta_value = []\n",
    "\n",
    "i = 0\n",
    "GIF = 0\n",
    "while (GIF<1 and i< 53):\n",
    "    my_ex_Now=deepcopy(my_ex)\n",
    "    my_ex_Now.𝙳𝚒𝚜𝚌𝙵𝚊𝚌=0.9+i*0.0025\n",
    "    my_ex_Now.solve()\n",
    "    m_target.append(my_ex_Now.solution[0].mNrmSS)\n",
    "    beta_value.append(0.9+i*0.0025)\n",
    "    EPermShkInv=np.dot(my_ex_Now.PermShkDstn[0][0],1/my_ex_Now.PermShkDstn[0][1])\n",
    "    PermGroFacAdj=my_ex_Now.PermGroFac[0]*EPermShkInv\n",
    "    Thorn=my_ex_Now.LivPrb[0]*(my_ex_Now.Rfree*my_ex_Now.DiscFac)**(1/my_ex_Now.CRRA)\n",
    "    GIF=Thorn/PermGroFacAdj\n",
    "    i += 1\n"
   ]
  },
  {
   "cell_type": "code",
   "execution_count": 27,
   "metadata": {},
   "outputs": [
    {
     "data": {
      "image/png": "[encoded data removed]",
      "text/plain": [
       "<Figure size 432x288 with 1 Axes>"
      ]
     },
     "metadata": {
      "needs_background": "light"
     },
     "output_type": "display_data"
    }
   ],
   "source": [
    "\n",
    "\n",
    "plt.plot( beta_value, m_target)\n",
    "plt.axis([0.9, 1, 1, 8])\n",
    "plt.text(0.9,8,\"$target\\ m$\",fontsize = 26)\n",
    "plt.text(1,1,\"$beta$\",fontsize = 26)\n",
    "plt.show()\n"
   ]
  },
  {
   "cell_type": "code",
   "execution_count": 70,
   "metadata": {
    "code_folding": []
   },
   "outputs": [
    {
     "name": "stdout",
     "output_type": "stream",
     "text": [
      "The given type violates the absolute impatience condition with the supplied parameter values; the AIF is 1.01823 \n",
      "The given parameter values violate the growth impatience condition for this consumer type; the GIF is: 1.0088\n"
     ]
    },
    {
     "data": {
      "image/png": "[encoded data removed]",
      "text/plain": [
       "<Figure size 864x576 with 1 Axes>"
      ]
     },
     "metadata": {},
     "output_type": "display_data"
    }
   ],
   "source": [
    "# Plot GICFailExample consumption function against the sustainable level of consumption\n",
    "\n",
    "GICFailExample.solve() # Above, we set up the problem but did not solve it \n",
    "GICFailExample.unpackcFunc()  # Make the consumption function easily accessible for plotting\n",
    "m = np.linspace(0,5,1000)\n",
    "c_m = GICFailExample.cFunc[0](m)\n",
    "E_m = mSSfunc(m)\n",
    "plt.figure(figsize = (12,8))\n",
    "plt.plot(m,c_m,color=\"black\")\n",
    "plt.plot(m,E_m,color=\"black\")\n",
    "plt.xlim(0,5.5)\n",
    "plt.ylim(0,1.6)\n",
    "plt.text(0,1.63,\"$c$\",fontsize = 26)\n",
    "plt.text(5.55,0,\"$m$\",fontsize = 26)\n",
    "plt.tick_params(labelbottom=False, labelleft=False,left='off',right='off',bottom='off',top='off')\n",
    "plt.text(1,0.6,\"$c(m_{t})$\",fontsize = 18)\n",
    "plt.text(1.5,1.2,\"$\\mathsf{E}_{t}[\\Delta m_{t+1}] = 0$\",fontsize = 18)\n",
    "plt.arrow(0.98,0.62,-0.2,0,head_width= 0.02,width=0.001,facecolor='black',length_includes_head='True')\n",
    "plt.arrow(2.2,1.2,0.3,-0.05,head_width= 0.02,width=0.001,facecolor='black',length_includes_head='True')\n",
    "if Generator:\n",
    "    plt.savefig(os.path.join(Figures_HARK_dir, 'FVACnotGIC.png'))\n",
    "    plt.savefig(os.path.join(Figures_HARK_dir, 'FVACnotGIC.jpg'))\n",
    "    plt.savefig(os.path.join(Figures_HARK_dir, 'FVACnotGIC.pdf'))\n",
    "    plt.savefig(os.path.join(Figures_HARK_dir, 'FVACnotGIC.svg'))\n",
    "\n",
    "# This figure reproduces the figure shown in the paper.  \n",
    "# The gap between the two functions actually increases with $m$ in the limit.\n",
    "if not in_ipynb():\n",
    "    plt.show(block=False) \n",
    "    plt.pause(1)\n",
    "else:\n",
    "    plt.show(block=True) # Change to False if you want to run uninterrupted"
   ]
  },
  {
   "cell_type": "markdown",
   "metadata": {},
   "source": [
    "As a foundation for the remaining figures, we define another instance of the class $\\texttt{IndShockConsumerType}$, which has the same parameter values as the instance $\\texttt{baseEx}$ defined previously but is solved to convergence (our definition of an infinite horizon agent type)\n"
   ]
  },
  {
   "cell_type": "code",
   "execution_count": 58,
   "metadata": {
    "code_folding": [
     0
    ],
    "lines_to_next_cell": 1
   },
   "outputs": [],
   "source": [
    "# cycles=0 tells the solver to find the infinite horizon solution\n",
    "baseEx_inf = IndShockConsumerType(cycles=0,**base_params)\n",
    "\n",
    "baseEx_inf.solve()\n",
    "baseEx_inf.unpackcFunc()"
   ]
  },
  {
   "cell_type": "markdown",
   "metadata": {},
   "source": [
    "### [Target $m$, Expected Consumption Growth, and Permanent Income Growth](https://econ.jhu.edu/people/ccarroll/papers/BufferStockTheory/#AnalysisoftheConvergedConsumptionFunction)\n",
    "\n",
    "The next figure is shown in  [Analysis of the Converged Consumption Function](https://econ.jhu.edu/people/ccarroll/papers/BufferStockTheory/#cGroTargetFig), which shows the expected consumption growth factor $\\mathrm{\\mathbb{E}}_{t}[c_{t+1}/c_{t}]$ for a consumer behaving according to the converged consumption rule.\n"
   ]
  },
  {
   "cell_type": "code",
   "execution_count": null,
   "metadata": {
    "code_folding": [
     0
    ]
   },
   "outputs": [],
   "source": [
    "# Define a function to calculate expected consumption \n",
    "def exp_consumption(a):\n",
    "    '''\n",
    "    Taking end-of-period assets as input, return expectation of next period's consumption\n",
    "    Inputs:\n",
    "       a: end-of-period assets\n",
    "    Returns:\n",
    "       expconsump: next period's expected consumption\n",
    "    '''\n",
    "    GrowFactp1 = baseEx_inf.PermGroFac[0]* baseEx_inf.PermShkDstn[0][1]\n",
    "    Rnrmtp1 = baseEx_inf.Rfree / GrowFactp1\n",
    "    # end-of-period assets plus normalized returns\n",
    "    btp1 = Rnrmtp1*a\n",
    "    # expand dims of btp1 and use broadcasted sum of a column and a row vector\n",
    "    # to obtain a matrix of possible beginning-of-period assets next period\n",
    "    mtp1 = np.expand_dims(btp1, axis=1) + baseEx_inf.TranShkDstn[0][1]\n",
    "    part_expconsumption = GrowFactp1*baseEx_inf.cFunc[0](mtp1).T\n",
    "    # finish expectation over permanent income shocks by right multiplying with\n",
    "    # the weights\n",
    "    part_expconsumption = np.dot(part_expconsumption, baseEx_inf.PermShkDstn[0][0])\n",
    "    # finish expectation over transitory income shocks by right multiplying with\n",
    "    # weights\n",
    "    expconsumption = np.dot(part_expconsumption, baseEx_inf.TranShkDstn[0][0])\n",
    "    # return expected consumption\n",
    "    return expconsumption"
   ]
  },
  {
   "cell_type": "code",
   "execution_count": null,
   "metadata": {
    "code_folding": [
     0
    ]
   },
   "outputs": [],
   "source": [
    "# Calculate the expected consumption growth factor\n",
    "m1 = np.linspace(1,baseEx_inf.solution[0].mNrmSS,50) # m1 defines the plot range on the left of target m value (e.g. m <= target m)\n",
    "c_m1 = baseEx_inf.cFunc[0](m1)\n",
    "a1 = m1-c_m1\n",
    "exp_consumption_l1 = []\n",
    "for i in range(len(a1)):\n",
    "    exp_consumption_tp1 = exp_consumption(a1[i])\n",
    "    exp_consumption_l1.append(exp_consumption_tp1)\n",
    "\n",
    "# growth1 defines the values of expected consumption growth factor when m is less than target m\n",
    "growth1 = np.array(exp_consumption_l1)/c_m1\n",
    "\n",
    "# m2 defines the plot range on the right of target m value (e.g. m >= target m)\n",
    "m2 = np.linspace(baseEx_inf.solution[0].mNrmSS,1.9,50)\n",
    "\n",
    "c_m2 = baseEx_inf.cFunc[0](m2)\n",
    "a2 = m2-c_m2\n",
    "exp_consumption_l2 = []\n",
    "for i in range(len(a2)):\n",
    "    exp_consumption_tp1 = exp_consumption(a2[i])\n",
    "    exp_consumption_l2.append(exp_consumption_tp1)\n",
    "\n",
    "# growth 2 defines the values of expected consumption growth factor when m is bigger than target m\n",
    "growth2 = np.array(exp_consumption_l2)/c_m2"
   ]
  },
  {
   "cell_type": "code",
   "execution_count": null,
   "metadata": {
    "code_folding": [
     0
    ]
   },
   "outputs": [],
   "source": [
    "# Define a function to construct the arrows on the consumption growth rate function\n",
    "def arrowplot(axes, x, y, narrs=15, dspace=0.5, direc='neg',\n",
    "              hl=0.01, hw=3, c='black'):\n",
    "    '''\n",
    "    The function is used to plot arrows given the data x and y.\n",
    "\n",
    "    Input:\n",
    "        narrs  :  Number of arrows that will be drawn along the curve\n",
    "\n",
    "        dspace :  Shift the position of the arrows along the curve.\n",
    "                  Should be between 0. and 1.\n",
    "\n",
    "        direc  :  can be 'pos' or 'neg' to select direction of the arrows\n",
    "\n",
    "        hl     :  length of the arrow head\n",
    "\n",
    "        hw     :  width of the arrow head\n",
    "\n",
    "        c      :  color of the edge and face of the arrow head\n",
    "    '''\n",
    "\n",
    "    # r is the distance spanned between pairs of points\n",
    "    r = np.sqrt(np.diff(x)**2+np.diff(y)**2)\n",
    "    r = np.insert(r, 0, 0.0)\n",
    "\n",
    "    # rtot is a cumulative sum of r, it's used to save time\n",
    "    rtot = np.cumsum(r)\n",
    "\n",
    "    # based on narrs set the arrow spacing\n",
    "    aspace = r.sum() / narrs\n",
    "\n",
    "    if direc is 'neg':\n",
    "        dspace = -1.*abs(dspace)\n",
    "    else:\n",
    "        dspace = abs(dspace)\n",
    "\n",
    "    arrowData = [] # will hold tuples of x,y,theta for each arrow\n",
    "    arrowPos = aspace*(dspace) # current point on walk along data\n",
    "                                 # could set arrowPos to 0 if you want\n",
    "                                 # an arrow at the beginning of the curve\n",
    "\n",
    "    ndrawn = 0\n",
    "    rcount = 1\n",
    "    while arrowPos < r.sum() and ndrawn < narrs:\n",
    "        x1,x2 = x[rcount-1],x[rcount]\n",
    "        y1,y2 = y[rcount-1],y[rcount]\n",
    "        da = arrowPos-rtot[rcount]\n",
    "        theta = np.arctan2((x2-x1),(y2-y1))\n",
    "        ax = np.sin(theta)*da+x1\n",
    "        ay = np.cos(theta)*da+y1\n",
    "        arrowData.append((ax,ay,theta))\n",
    "        ndrawn += 1\n",
    "        arrowPos+=aspace\n",
    "        while arrowPos > rtot[rcount+1]:\n",
    "            rcount+=1\n",
    "            if arrowPos > rtot[-1]:\n",
    "                break\n",
    "\n",
    "    for ax,ay,theta in arrowData:\n",
    "        # use aspace as a guide for size and length of things\n",
    "        # scaling factors were chosen by experimenting a bit\n",
    "\n",
    "        dx0 = np.sin(theta)*hl/2.0 + ax\n",
    "        dy0 = np.cos(theta)*hl/2.0 + ay\n",
    "        dx1 = -1.*np.sin(theta)*hl/2.0 + ax\n",
    "        dy1 = -1.*np.cos(theta)*hl/2.0 + ay\n",
    "\n",
    "        if direc is 'neg' :\n",
    "            ax0 = dx0\n",
    "            ay0 = dy0\n",
    "            ax1 = dx1\n",
    "            ay1 = dy1\n",
    "        else:\n",
    "            ax0 = dx1\n",
    "            ay0 = dy1\n",
    "            ax1 = dx0\n",
    "            ay1 = dy0\n",
    "\n",
    "        axes.annotate('', xy=(ax0, ay0), xycoords='data',\n",
    "                xytext=(ax1, ay1), textcoords='data',\n",
    "                arrowprops=dict( headwidth=hw, frac=1., ec=c, fc=c))"
   ]
  },
  {
   "cell_type": "code",
   "execution_count": null,
   "metadata": {
    "code_folding": [
     0
    ]
   },
   "outputs": [],
   "source": [
    "# Plot consumption growth as a function of market resources\n",
    "# Calculate Absolute Patience Factor Phi = lower bound of consumption growth factor\n",
    "AbsPatientFac = (baseEx_inf.Rfree*baseEx_inf.DiscFac)**(1.0/baseEx_inf.CRRA)\n",
    "\n",
    "fig = plt.figure(figsize = (12,8))\n",
    "ax = fig.add_subplot(111)\n",
    "# Plot the Absolute Patience Factor line\n",
    "ax.plot([0,1.9],[AbsPatientFac,AbsPatientFac],color=\"black\")\n",
    "\n",
    "# Plot the Permanent Income Growth Factor line\n",
    "ax.plot([0,1.9],[baseEx_inf.PermGroFac[0],baseEx_inf.PermGroFac[0]],color=\"black\")\n",
    "\n",
    "# Plot the expected consumption growth factor on the left side of target m\n",
    "ax.plot(m1,growth1,color=\"black\")\n",
    "\n",
    "# Plot the expected consumption growth factor on the right side of target m\n",
    "ax.plot(m2,growth2,color=\"black\")\n",
    "\n",
    "# Plot the arrows\n",
    "arrowplot(ax, m1,growth1)\n",
    "arrowplot(ax, m2,growth2, direc='pos')\n",
    "\n",
    "# Plot the target m\n",
    "ax.plot([baseEx_inf.solution[0].mNrmSS,baseEx_inf.solution[0].mNrmSS],[0,1.4],color=\"black\",linestyle=\"--\")\n",
    "ax.set_xlim(1,2.05)\n",
    "ax.set_ylim(0.98,1.08)\n",
    "ax.text(1,1.082,\"Growth Rate\",fontsize = 26,fontweight='bold')\n",
    "ax.text(2.055,0.98,\"$m_{t}$\",fontsize = 26,fontweight='bold')\n",
    "ax.text(1.9,1.01,\"$\\mathsf{E}_{t}[c_{t+1}/c_{t}]$\",fontsize = 22,fontweight='bold')\n",
    "ax.text(baseEx_inf.solution[0].mNrmSS,0.975, r'$\\check{m}$', fontsize = 26,fontweight='bold')\n",
    "ax.tick_params(labelbottom=False, labelleft=False,left='off',right='off',bottom='off',top='off')\n",
    "ax.text(1.9,0.998,r'$\\Phi = (\\mathrm{\\mathsf{R}}\\beta)^{1/\\rho}$',fontsize = 22,fontweight='bold')\n",
    "ax.text(1.9,1.03, r'$\\Gamma$',fontsize = 22,fontweight='bold')\n",
    "if Generator:\n",
    "    fig.savefig(os.path.join(Figures_HARK_dir, 'cGroTargetFig.png'))\n",
    "    fig.savefig(os.path.join(Figures_HARK_dir, 'cGroTargetFig.jpg'))\n",
    "    fig.savefig(os.path.join(Figures_HARK_dir, 'cGroTargetFig.pdf'))\n",
    "    fig.savefig(os.path.join(Figures_HARK_dir, 'cGroTargetFig.svg'))\n",
    "if not in_ipynb():\n",
    "    plt.show(block=False) \n",
    "    plt.pause(1)\n",
    "else:\n",
    "    plt.show(block=True) # Change to False if you want to run uninterrupted"
   ]
  },
  {
   "cell_type": "markdown",
   "metadata": {
    "code_folding": []
   },
   "source": [
    "### [Consumption Function Bounds](https://econ.jhu.edu/people/ccarroll/papers/BufferStockTheory/#AnalysisOfTheConvergedConsumptionFunction)\n",
    "[The next figure](https://econ.jhu.edu/people/ccarroll/papers/BufferStockTheory/#cFuncBounds)\n",
    "illustrates theoretical bounds for the consumption function.\n",
    "\n",
    "We define two useful variables: lower bound of $\\kappa$ (marginal propensity to consume) and limit of $h$ (Human wealth), along with some functions such as limiting perfect foresight consumption functions ($\\bar{c}(m)$), $\\bar{\\bar c}(m)$ and $\\underline{c}(m)$."
   ]
  },
  {
   "cell_type": "code",
   "execution_count": null,
   "metadata": {
    "code_folding": [
     0
    ],
    "lines_to_next_cell": 2
   },
   "outputs": [],
   "source": [
    "# Define k_lower, h_inf and perfect foresight consumption function, upper bound of consumption function and lower\n",
    "# bound of consumption function.\n",
    "k_lower = 1.0-(baseEx_inf.Rfree**(-1.0))*(baseEx_inf.Rfree*baseEx_inf.DiscFac)**(1.0/baseEx_inf.CRRA)\n",
    "h_inf = (1.0/(1.0-baseEx_inf.PermGroFac[0]/baseEx_inf.Rfree))\n",
    "conFunc_PF = lambda m: (h_inf -1)* k_lower + k_lower*m\n",
    "conFunc_upper = lambda m: (1 - baseEx_inf.UnempPrb ** (1.0/baseEx_inf.CRRA)*(baseEx_inf.Rfree*baseEx_inf.DiscFac)**(1.0/baseEx_inf.CRRA)/baseEx_inf.Rfree)*m\n",
    "conFunc_lower = lambda m: (1 -(baseEx_inf.Rfree*baseEx_inf.DiscFac)**(1.0/baseEx_inf.CRRA)/baseEx_inf.Rfree) * m\n",
    "intersect_m = ((h_inf-1)* k_lower)/((1 - baseEx_inf.UnempPrb\n",
    "            **(1.0/baseEx_inf.CRRA)*(baseEx_inf.Rfree*baseEx_inf.DiscFac)**(1.0/baseEx_inf.CRRA)/baseEx_inf.Rfree)-k_lower)"
   ]
  },
  {
   "cell_type": "code",
   "execution_count": null,
   "metadata": {
    "code_folding": []
   },
   "outputs": [],
   "source": [
    "# Plot the consumption function and its bounds\n",
    "\n",
    "cMaxLabel=r'$\\overline{c}(m) = (m-1+h)\\underline{\\kappa}$'\n",
    "cMinLabel=r'$\\underline{c}(m)= (1-\\Phi_{R})m = \\underline{\\kappa}m$'\n",
    "if not iflatexExists:\n",
    "    cMaxLabel=r'$\\overline{c}(m) = (m-1+h)$κ̲' # Use unicode kludge\n",
    "    cMinLabel=r'c̲$(m)= (1-\\Phi_{R})m = $κ̲$ m$' \n",
    "    \n",
    "x1 = np.linspace(0,25,1000)\n",
    "x3 = np.linspace(0,intersect_m,300)\n",
    "x4 = np.linspace(intersect_m,25,700)\n",
    "cfunc_m = baseEx_inf.cFunc[0](x1)\n",
    "cfunc_PF_1 = conFunc_PF(x3)\n",
    "cfunc_PF_2 = conFunc_PF(x4)\n",
    "cfunc_upper_1 = conFunc_upper(x3)\n",
    "cfunc_upper_2 = conFunc_upper(x4)\n",
    "cfunc_lower = conFunc_lower(x1)\n",
    "plt.figure(figsize = (12,8))\n",
    "plt.plot(x1,cfunc_m, color=\"black\")\n",
    "plt.plot(x1,cfunc_lower, color=\"black\",linewidth=2.5)\n",
    "plt.plot(x3,cfunc_upper_1, color=\"black\",linewidth=2.5)\n",
    "plt.plot(x4,cfunc_PF_2 , color=\"black\",linewidth=2.5)\n",
    "plt.plot(x4,cfunc_upper_2 , color=\"black\",linestyle=\"--\")\n",
    "plt.plot(x3,cfunc_PF_1 , color=\"black\",linestyle=\"--\")\n",
    "plt.tick_params(labelbottom=False, labelleft=False,left='off',right='off',bottom='off',top='off')\n",
    "plt.xlim(0,25)\n",
    "plt.ylim(0,1.12*conFunc_PF(25))\n",
    "plt.text(0,1.12*conFunc_PF(25)+0.05,\"$c$\",fontsize = 22)\n",
    "plt.text(25+0.1,0,\"$m$\",fontsize = 22)\n",
    "plt.text(2.5,1,r'$c(m)$',fontsize = 22,fontweight='bold')\n",
    "plt.text(6,5,r'$\\overline{\\overline{c}}(m)= \\overline{\\kappa}m = (1-\\wp^{1/\\rho}\\Phi_{R})m$',fontsize = 22,fontweight='bold')\n",
    "plt.text(2.2,3.8, cMaxLabel,fontsize = 22,fontweight='bold')\n",
    "plt.text(9,4.1,r'Upper Bound $ = $ Min $[\\overline{\\overline{c}}(m),\\overline{c}(m)]$',fontsize = 22,fontweight='bold')\n",
    "plt.text(7,0.7,cMinLabel,fontsize = 22,fontweight='bold')\n",
    "plt.arrow(2.45,1.05,-0.5,0.02,head_width= 0.05,width=0.001,facecolor='black',length_includes_head='True')\n",
    "plt.arrow(2.15,3.88,-0.5,0.1,head_width= 0.05,width=0.001,facecolor='black',length_includes_head='True')\n",
    "plt.arrow(8.95,4.15,-0.8,0.05,head_width= 0.05,width=0.001,facecolor='black',length_includes_head='True')\n",
    "plt.arrow(5.95,5.05,-0.4,0,head_width= 0.05,width=0.001,facecolor='black',length_includes_head='True')\n",
    "plt.arrow(14,0.70,0.5,-0.1,head_width= 0.05,width=0.001,facecolor='black',length_includes_head='True')\n",
    "if Generator:\n",
    "    plt.savefig(os.path.join(Figures_HARK_dir, 'cFuncBounds.png'))\n",
    "    plt.savefig(os.path.join(Figures_HARK_dir, 'cFuncBounds.jpg'))\n",
    "    plt.savefig(os.path.join(Figures_HARK_dir, 'cFuncBounds.pdf'))\n",
    "    plt.savefig(os.path.join(Figures_HARK_dir, 'cFuncBounds.svg'))\n",
    "if not in_ipynb():\n",
    "    plt.show(block=False) \n",
    "    plt.pause(1)\n",
    "else:\n",
    "    plt.show(block=True) # Change to False if you want to run uninterrupted"
   ]
  },
  {
   "cell_type": "markdown",
   "metadata": {},
   "source": [
    "### [The Consumption Function and Target $m$](https://econ.jhu.edu/people/ccarroll/papers/BufferStockTheory/#cFuncBounds)\n",
    "\n",
    "This figure shows the $\\mathrm{\\mathbb{E}}_{t}[\\Delta m_{t+1}]$ and consumption function $c(m_{t})$, along with the intrsection of these two functions, which defines the target value of $m$"
   ]
  },
  {
   "cell_type": "code",
   "execution_count": null,
   "metadata": {
    "code_folding": [
     0
    ]
   },
   "outputs": [],
   "source": [
    "# This just plots objects that have already been constructed\n",
    "\n",
    "m1 = np.linspace(0,4,1000)\n",
    "cfunc_m = baseEx_inf.cFunc[0](m1)\n",
    "mSSfunc = lambda m:(baseEx_inf.PermGroFac[0]/baseEx_inf.Rfree)+(1.0-baseEx_inf.PermGroFac[0]/baseEx_inf.Rfree)*m\n",
    "mss = mSSfunc(m1)\n",
    "plt.figure(figsize = (12,8))\n",
    "plt.plot(m1,cfunc_m, color=\"black\")\n",
    "plt.plot(m1,mss, color=\"black\")\n",
    "plt.xlim(0,3)\n",
    "plt.ylim(0,1.45)\n",
    "plt.plot([baseEx_inf.solution[0].mNrmSS, baseEx_inf.solution[0].mNrmSS],[0,2.5],color=\"black\",linestyle=\"--\")\n",
    "plt.tick_params(labelbottom=False, labelleft=False,left='off',right='off',bottom='off',top='off')\n",
    "plt.text(0,1.47,r\"$c$\",fontsize = 26)\n",
    "plt.text(3.02,0,r\"$m$\",fontsize = 26)\n",
    "plt.text(2.3,0.95,r'$\\mathsf{E}[\\Delta m_{t+1}] = 0$',fontsize = 22,fontweight='bold')\n",
    "plt.text(2.3,1.1,r\"$c(m_{t})$\",fontsize = 22,fontweight='bold')\n",
    "plt.text(baseEx_inf.solution[0].mNrmSS,-0.05, r\"$\\check{m}$\",fontsize = 26)\n",
    "plt.arrow(2.28,1.12,-0.1,0.03,head_width= 0.02,width=0.001,facecolor='black',length_includes_head='True')\n",
    "plt.arrow(2.28,0.97,-0.1,0.02,head_width= 0.02,width=0.001,facecolor='black',length_includes_head='True')\n",
    "if Generator:\n",
    "    plt.savefig(os.path.join(Figures_HARK_dir, 'cRatTargetFig.png'))\n",
    "    plt.savefig(os.path.join(Figures_HARK_dir, 'cRatTargetFig.jpg'))\n",
    "    plt.savefig(os.path.join(Figures_HARK_dir, 'cRatTargetFig.pdf'))\n",
    "    plt.savefig(os.path.join(Figures_HARK_dir, 'cRatTargetFig.svg'))\n",
    "if not in_ipynb():\n",
    "    plt.show(block=False)\n",
    "    plt.pause(1)\n",
    "else:\n",
    "    plt.show(block=True)"
   ]
  },
  {
   "cell_type": "markdown",
   "metadata": {},
   "source": [
    "### [Upper and Lower Limits of the Marginal Propensity to Consume](https://econ.jhu.edu/people/ccarroll/papers/BufferStockTheory/#MPCLimits)\n",
    "\n",
    "The paper shows that as $m_{t}~\\uparrow~\\infty$ the consumption function in the presence of risk gets arbitrarily close to the perfect foresight consumption function.  Defining $\\underline{\\kappa}$ as the perfect foresight model's MPC, this implies that $\\lim_{m_{t}~\\uparrow~\\infty} c^{\\prime}(m) = \\underline{\\kappa}$.  \n",
    "\n",
    "The paper also derives an analytical limit $\\bar{\\kappa}$ for the MPC as $m$ approaches 0., its bounding value.  Strict concavity of the consumption function implies that the consumption function will be everywhere below a function $\\bar{\\kappa}m$, and strictly declining everywhere.  The last figure plots the MPC between these two limits."
   ]
  },
  {
   "cell_type": "code",
   "execution_count": null,
   "metadata": {
    "code_folding": []
   },
   "outputs": [],
   "source": [
    "# The last figure shows the upper and lower limits of the MPC\n",
    "plt.figure(figsize = (12,8))\n",
    "# Set the plot range of m\n",
    "m = np.linspace(0.001,8,1000)\n",
    "\n",
    "# Use the HARK method derivative to get the derivative of cFunc, and the values are just the MPC\n",
    "MPC = baseEx_inf.cFunc[0].derivative(m)\n",
    "\n",
    "# Define the upper bound of MPC\n",
    "MPCUpper = (1 - baseEx_inf.UnempPrb ** (1.0/baseEx_inf.CRRA)*(baseEx_inf.Rfree*baseEx_inf.DiscFac)**(1.0/baseEx_inf.CRRA)/baseEx_inf.Rfree)\n",
    "\n",
    "# Define the lower bound of MPC\n",
    "MPCLower = k_lower\n",
    "\n",
    "kappaDef=r'$\\underline{\\kappa}\\equiv(1-\\Phi_{R})$'\n",
    "if not iflatexExists:\n",
    "    kappaDef=r'κ̲$\\equiv(1-\\Phi_{R})$'\n",
    "\n",
    "plt.plot(m,MPC,color = 'black')\n",
    "plt.plot([0,8],[MPCUpper,MPCUpper],color = 'black')\n",
    "plt.plot([0,8],[MPCLower,MPCLower],color = 'black')\n",
    "plt.xlim(0,8)\n",
    "plt.ylim(0,1)\n",
    "plt.text(1.5,0.6,r'$\\kappa(m) \\equiv c^{\\prime}(m)$',fontsize = 26,fontweight='bold')\n",
    "plt.text(6,0.87,r'$(1-\\wp^{1/\\rho}\\Phi_{R})\\equiv \\overline{\\kappa}$',fontsize = 26,fontweight='bold')\n",
    "plt.text(0.5,0.07,kappaDef,fontsize = 26,fontweight='bold')\n",
    "plt.text(8.05,0,\"$m$\",fontsize = 26)\n",
    "plt.arrow(1.45,0.61,-0.4,0,head_width= 0.02,width=0.001,facecolor='black',length_includes_head='True')\n",
    "plt.arrow(1.7,0.07,0.2,-0.01,head_width= 0.02,width=0.001,facecolor='black',length_includes_head='True')\n",
    "plt.arrow(5.95,0.875,-0.2,0.03,head_width= 0.02,width=0.001,facecolor='black',length_includes_head='True')\n",
    "if Generator:\n",
    "    plt.savefig(os.path.join(Figures_HARK_dir, 'MPCLimits.png'))\n",
    "    plt.savefig(os.path.join(Figures_HARK_dir, 'MPCLimits.jpg'))\n",
    "    plt.savefig(os.path.join(Figures_HARK_dir, 'MPCLimits.pdf'))\n",
    "    plt.savefig(os.path.join(Figures_HARK_dir, 'MPCLimits.svg'))\n",
    "if not in_ipynb():\n",
    "    plt.show(block=False) \n",
    "    plt.pause(1)\n",
    "else:\n",
    "    plt.show(block=True) # Change to False if you want to run uninterrupted"
   ]
  },
  {
   "cell_type": "markdown",
   "metadata": {},
   "source": [
    "# Summary\n",
    "\n",
    "[Two tables in the paper](https://econ.jhu.edu/people/ccarroll/papers/BufferStockTheory/#Sufficient-Conditions-For-Nondegenerate-Solution) summarize the various definitions, and then articulate conditions required for the problem to have a nondegenerate solution.\n",
    "\n",
    "The main other contribution of the paper is to show that, under parametric combinations where the solution is nondegenerate, if the Growth Impatience Condition holds there will be a target level of wealth."
   ]
  }
 ],
 "metadata": {
  "@webio": {
   "lastCommId": "a8ab2762cccf499696a7ef0a86be4d18",
   "lastKernelId": "261999dd-7ee7-4ad4-9a26-99a84a77979b"
  },
  "cite2c": {
   "citations": {
    "6202365/8AH9AXN2": {
     "URL": "http://econ.jhu.edu/people/ccarroll/papers/BufferStockTheory.pdf",
     "author": [
      {
       "family": "Carroll",
       "given": "Christopher"
      }
     ],
     "container-title": "Manuscript, Department of Economics, Johns Hopkins University",
     "id": "6202365/8AH9AXN2",
     "issued": {
      "month": 2,
      "year": 2019
     },
     "note": "Available at http://econ.jhu.edu/people/ccarroll/papers/BufferStockTheory \nCitation Key: carrollBufferStockTheory \nbibtex*[extra=bibtex:carrollBufferStockTheory]",
     "title": "Theoretical Foundations of Buffer Stock Saving",
     "type": "article-journal"
    },
    "6202365/TGG4U7J4": {
     "author": [
      {
       "family": "Clarida",
       "given": "Richard H."
      }
     ],
     "container-title": "International Economic Review",
     "issued": {
      "date-parts": [
       [
        1987
       ]
      ]
     },
     "page": "339–351",
     "title": "Consumption, Liquidity Constraints, and Asset Accumulation in the Face of Random Fluctuations in Income",
     "type": "article-journal",
     "volume": "XXVIII"
    },
    "undefined": {
     "URL": "http://econ.jhu.edu/people/ccarroll/papers/BufferStockTheory.pdf",
     "author": [
      {
       "family": "Carroll",
       "given": "Christopher"
      }
     ],
     "container-title": "Manuscript, Department of Economics, Johns Hopkins University",
     "issued": {
      "date-parts": [
       [
        "2019",
        2
       ]
      ]
     },
     "note": "Available at http://econ.jhu.edu/people/ccarroll/papers/BufferStockTheory \nCitation Key: carrollBufferStockTheory \nbibtex*[extra=bibtex:carrollBufferStockTheory]",
     "title": "Theoretical Foundations of Buffer Stock Saving",
     "type": "article-journal"
    }
   }
  },
  "jupytext": {
   "formats": "ipynb,py:percent"
  },
  "kernelspec": {
   "display_name": "Python 3",
   "language": "python",
   "name": "python3"
  },
  "language_info": {
   "codemirror_mode": {
    "name": "ipython",
    "version": 3
   },
   "file_extension": ".py",
   "mimetype": "text/x-python",
   "name": "python",
   "nbconvert_exporter": "python",
   "pygments_lexer": "ipython3",
   "version": "3.7.3"
  },
  "latex_envs": {
   "LaTeX_envs_menu_present": true,
   "autoclose": false,
   "autocomplete": true,
   "bibliofile": "biblio.bib",
   "cite_by": "apalike",
   "current_citInitial": 1,
   "eqLabelWithNumbers": true,
   "eqNumInitial": 1,
   "hotkeys": {
    "equation": "Ctrl-E",
    "itemize": "Ctrl-I"
   },
   "labels_anchors": false,
   "latex_user_defs": true,
   "report_style_numbering": false,
   "user_envs_cfg": false
  },
  "varInspector": {
   "cols": {
    "lenName": 16,
    "lenType": 16,
    "lenVar": 40
   },
   "kernels_config": {
    "python": {
     "delete_cmd_postfix": "",
     "delete_cmd_prefix": "del ",
     "library": "var_list.py",
     "varRefreshCmd": "print(var_dic_list())"
    },
    "r": {
     "delete_cmd_postfix": ") ",
     "delete_cmd_prefix": "rm(",
     "library": "var_list.r",
     "varRefreshCmd": "cat(var_dic_list()) "
    }
   },
   "types_to_exclude": [
    "module",
    "function",
    "builtin_function_or_method",
    "instance",
    "_Feature"
   ],
   "window_display": false
  }
 },
 "nbformat": 4,
 "nbformat_minor": 2
}
